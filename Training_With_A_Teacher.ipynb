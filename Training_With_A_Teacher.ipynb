{
 "cells": [
  {
   "cell_type": "markdown",
   "id": "882468ca",
   "metadata": {},
   "source": [
    "# Описание проекта\n",
    "\n",
    "Из «Бета-Банка» стали уходить клиенты. Банковские маркетологи посчитали: сохранять текущих клиентов дешевле, чем привлекать новых.\n",
    "\n",
    "Спрогнозируем, уйдёт клиент из банка в ближайшее время или нет. Нам предоставлены исторические данные о поведении клиентов и расторжении договоров с банком. "
   ]
  },
  {
   "cell_type": "markdown",
   "id": "427e20f0",
   "metadata": {},
   "source": [
    "# Импорт библиотек"
   ]
  },
  {
   "cell_type": "markdown",
   "id": "3c87d105",
   "metadata": {},
   "source": [
    "Импортируем нужные библиотеки."
   ]
  },
  {
   "cell_type": "code",
   "execution_count": 1,
   "id": "f18aefc8",
   "metadata": {},
   "outputs": [],
   "source": [
    "from sklearn.model_selection import train_test_split\n",
    "from sklearn.ensemble import RandomForestClassifier\n",
    "from sklearn.linear_model import LogisticRegression\n",
    "from sklearn.tree import DecisionTreeClassifier\n",
    "from sklearn.metrics import roc_auc_score\n",
    "from sklearn.metrics import roc_curve\n",
    "from sklearn.metrics import f1_score\n",
    "from sklearn.utils import shuffle\n",
    "import matplotlib.pyplot as plt\n",
    "import pandas as pd"
   ]
  },
  {
   "cell_type": "code",
   "execution_count": 2,
   "id": "eeae61ab",
   "metadata": {},
   "outputs": [],
   "source": [
    "from sklearn.preprocessing import StandardScaler\n",
    "from sklearn.metrics import precision_score\n",
    "# from ydata_profiling import ProfileReport\n",
    "from sklearn.metrics import recall_score\n",
    "# import sweetviz as sv"
   ]
  },
  {
   "cell_type": "markdown",
   "id": "3c0a4125",
   "metadata": {},
   "source": [
    "# Загрузка данных"
   ]
  },
  {
   "cell_type": "markdown",
   "id": "7f71501d",
   "metadata": {},
   "source": [
    "Сохраним данные о поведении клиентов и расторжении договоров с банком в датафрейм `data`."
   ]
  },
  {
   "cell_type": "code",
   "execution_count": 3,
   "id": "95a0d634",
   "metadata": {},
   "outputs": [],
   "source": [
    "try:\n",
    "    data = pd.read_csv('data.csv')\n",
    "except:\n",
    "    data = pd.read_csv('https://code.s3.yandex.net/datasets/Churn.csv')"
   ]
  },
  {
   "cell_type": "code",
   "execution_count": 4,
   "id": "5c2e3068",
   "metadata": {
    "scrolled": true
   },
   "outputs": [
    {
     "data": {
      "text/html": [
       "<div>\n",
       "<style scoped>\n",
       "    .dataframe tbody tr th:only-of-type {\n",
       "        vertical-align: middle;\n",
       "    }\n",
       "\n",
       "    .dataframe tbody tr th {\n",
       "        vertical-align: top;\n",
       "    }\n",
       "\n",
       "    .dataframe thead th {\n",
       "        text-align: right;\n",
       "    }\n",
       "</style>\n",
       "<table border=\"1\" class=\"dataframe\">\n",
       "  <thead>\n",
       "    <tr style=\"text-align: right;\">\n",
       "      <th></th>\n",
       "      <th>RowNumber</th>\n",
       "      <th>CustomerId</th>\n",
       "      <th>Surname</th>\n",
       "      <th>CreditScore</th>\n",
       "      <th>Geography</th>\n",
       "      <th>Gender</th>\n",
       "      <th>Age</th>\n",
       "      <th>Tenure</th>\n",
       "      <th>Balance</th>\n",
       "      <th>NumOfProducts</th>\n",
       "      <th>HasCrCard</th>\n",
       "      <th>IsActiveMember</th>\n",
       "      <th>EstimatedSalary</th>\n",
       "      <th>Exited</th>\n",
       "    </tr>\n",
       "  </thead>\n",
       "  <tbody>\n",
       "    <tr>\n",
       "      <th>0</th>\n",
       "      <td>1</td>\n",
       "      <td>15634602</td>\n",
       "      <td>Hargrave</td>\n",
       "      <td>619</td>\n",
       "      <td>France</td>\n",
       "      <td>Female</td>\n",
       "      <td>42</td>\n",
       "      <td>2.0</td>\n",
       "      <td>0.00</td>\n",
       "      <td>1</td>\n",
       "      <td>1</td>\n",
       "      <td>1</td>\n",
       "      <td>101348.88</td>\n",
       "      <td>1</td>\n",
       "    </tr>\n",
       "    <tr>\n",
       "      <th>1</th>\n",
       "      <td>2</td>\n",
       "      <td>15647311</td>\n",
       "      <td>Hill</td>\n",
       "      <td>608</td>\n",
       "      <td>Spain</td>\n",
       "      <td>Female</td>\n",
       "      <td>41</td>\n",
       "      <td>1.0</td>\n",
       "      <td>83807.86</td>\n",
       "      <td>1</td>\n",
       "      <td>0</td>\n",
       "      <td>1</td>\n",
       "      <td>112542.58</td>\n",
       "      <td>0</td>\n",
       "    </tr>\n",
       "    <tr>\n",
       "      <th>2</th>\n",
       "      <td>3</td>\n",
       "      <td>15619304</td>\n",
       "      <td>Onio</td>\n",
       "      <td>502</td>\n",
       "      <td>France</td>\n",
       "      <td>Female</td>\n",
       "      <td>42</td>\n",
       "      <td>8.0</td>\n",
       "      <td>159660.80</td>\n",
       "      <td>3</td>\n",
       "      <td>1</td>\n",
       "      <td>0</td>\n",
       "      <td>113931.57</td>\n",
       "      <td>1</td>\n",
       "    </tr>\n",
       "    <tr>\n",
       "      <th>3</th>\n",
       "      <td>4</td>\n",
       "      <td>15701354</td>\n",
       "      <td>Boni</td>\n",
       "      <td>699</td>\n",
       "      <td>France</td>\n",
       "      <td>Female</td>\n",
       "      <td>39</td>\n",
       "      <td>1.0</td>\n",
       "      <td>0.00</td>\n",
       "      <td>2</td>\n",
       "      <td>0</td>\n",
       "      <td>0</td>\n",
       "      <td>93826.63</td>\n",
       "      <td>0</td>\n",
       "    </tr>\n",
       "    <tr>\n",
       "      <th>4</th>\n",
       "      <td>5</td>\n",
       "      <td>15737888</td>\n",
       "      <td>Mitchell</td>\n",
       "      <td>850</td>\n",
       "      <td>Spain</td>\n",
       "      <td>Female</td>\n",
       "      <td>43</td>\n",
       "      <td>2.0</td>\n",
       "      <td>125510.82</td>\n",
       "      <td>1</td>\n",
       "      <td>1</td>\n",
       "      <td>1</td>\n",
       "      <td>79084.10</td>\n",
       "      <td>0</td>\n",
       "    </tr>\n",
       "  </tbody>\n",
       "</table>\n",
       "</div>"
      ],
      "text/plain": [
       "   RowNumber  CustomerId   Surname  CreditScore Geography  Gender  Age  \\\n",
       "0          1    15634602  Hargrave          619    France  Female   42   \n",
       "1          2    15647311      Hill          608     Spain  Female   41   \n",
       "2          3    15619304      Onio          502    France  Female   42   \n",
       "3          4    15701354      Boni          699    France  Female   39   \n",
       "4          5    15737888  Mitchell          850     Spain  Female   43   \n",
       "\n",
       "   Tenure    Balance  NumOfProducts  HasCrCard  IsActiveMember  \\\n",
       "0     2.0       0.00              1          1               1   \n",
       "1     1.0   83807.86              1          0               1   \n",
       "2     8.0  159660.80              3          1               0   \n",
       "3     1.0       0.00              2          0               0   \n",
       "4     2.0  125510.82              1          1               1   \n",
       "\n",
       "   EstimatedSalary  Exited  \n",
       "0        101348.88       1  \n",
       "1        112542.58       0  \n",
       "2        113931.57       1  \n",
       "3         93826.63       0  \n",
       "4         79084.10       0  "
      ]
     },
     "execution_count": 4,
     "metadata": {},
     "output_type": "execute_result"
    }
   ],
   "source": [
    "data.head()"
   ]
  },
  {
   "cell_type": "markdown",
   "id": "0941ab4b",
   "metadata": {},
   "source": [
    "Переименуем столбцы."
   ]
  },
  {
   "cell_type": "code",
   "execution_count": 5,
   "id": "ebf18678",
   "metadata": {},
   "outputs": [
    {
     "data": {
      "text/plain": [
       "Index(['row_number', 'customer_id', 'surname', 'credit_score', 'geography',\n",
       "       'gender', 'age', 'tenure', 'balance', 'num_of_products', 'has_cr_card',\n",
       "       'is_active_member', 'estimated_salary', 'exited'],\n",
       "      dtype='object')"
      ]
     },
     "execution_count": 5,
     "metadata": {},
     "output_type": "execute_result"
    }
   ],
   "source": [
    "data.rename(columns={\n",
    "    'RowNumber': 'Row_Number', \n",
    "    'CustomerId': 'Customer_Id', \n",
    "    'CreditScore': 'Credit_Score',\n",
    "    'NumOfProducts': 'Num_Of_Products', \n",
    "    'HasCrCard': 'Has_Cr_Card', \n",
    "    'IsActiveMember': 'Is_Active_Member', \n",
    "    'EstimatedSalary': 'Estimated_Salary'\n",
    "}, inplace=True)\n",
    "\n",
    "new_columns = []\n",
    "for column in data.columns:\n",
    "    column = str(column.lower())\n",
    "    new_columns.append(column)\n",
    "    \n",
    "data.columns = new_columns\n",
    "data.columns"
   ]
  },
  {
   "cell_type": "markdown",
   "id": "85faf015",
   "metadata": {},
   "source": [
    "# Описание данных\n",
    "\n",
    "Данные находятся в файле `Churn.csv` (англ. «отток клиентов»).\n",
    "\n",
    "Признаки:\n",
    "- `row_number` — индекс строки в данных\n",
    "- `customer_id` — уникальный идентификатор клиента\n",
    "- `surname` — фамилия\n",
    "- `credit_score` — кредитный рейтинг\n",
    "- `geography` — страна проживания\n",
    "- `gender` — пол\n",
    "- `age` — возраст\n",
    "- `tenure` — сколько лет человек является клиентом банка\n",
    "- `balance` — баланс на счёте\n",
    "- `num_of_products` — количество продуктов банка, используемых клиентом\n",
    "- `has_cr_card` — наличие кредитной карты\n",
    "- `is_active_member` — активность клиента\n",
    "- `estimated_salary` — предполагаемая зарплата\n",
    "\n",
    "Целевой признак:\n",
    "- `exited` — факт ухода клиента"
   ]
  },
  {
   "cell_type": "code",
   "execution_count": 6,
   "id": "99092178",
   "metadata": {},
   "outputs": [
    {
     "name": "stdout",
     "output_type": "stream",
     "text": [
      "<class 'pandas.core.frame.DataFrame'>\n",
      "RangeIndex: 10000 entries, 0 to 9999\n",
      "Data columns (total 14 columns):\n",
      " #   Column            Non-Null Count  Dtype  \n",
      "---  ------            --------------  -----  \n",
      " 0   row_number        10000 non-null  int64  \n",
      " 1   customer_id       10000 non-null  int64  \n",
      " 2   surname           10000 non-null  object \n",
      " 3   credit_score      10000 non-null  int64  \n",
      " 4   geography         10000 non-null  object \n",
      " 5   gender            10000 non-null  object \n",
      " 6   age               10000 non-null  int64  \n",
      " 7   tenure            9091 non-null   float64\n",
      " 8   balance           10000 non-null  float64\n",
      " 9   num_of_products   10000 non-null  int64  \n",
      " 10  has_cr_card       10000 non-null  int64  \n",
      " 11  is_active_member  10000 non-null  int64  \n",
      " 12  estimated_salary  10000 non-null  float64\n",
      " 13  exited            10000 non-null  int64  \n",
      "dtypes: float64(3), int64(8), object(3)\n",
      "memory usage: 1.1+ MB\n"
     ]
    }
   ],
   "source": [
    "data.info()"
   ]
  },
  {
   "cell_type": "markdown",
   "id": "86389d58",
   "metadata": {},
   "source": [
    "Нами получены данные о **10 000** клиентов банка. Целевой признак (`exited`) принимает два значения (**0** - клиент останется; **1** - договор будет расторжен). В столбце `tenure` есть пропуски. Посмотрим, что можно с ними сделать."
   ]
  },
  {
   "cell_type": "code",
   "execution_count": 7,
   "id": "b35d3f8c",
   "metadata": {
    "scrolled": true
   },
   "outputs": [],
   "source": [
    "# report = sv.analyze(data)"
   ]
  },
  {
   "cell_type": "code",
   "execution_count": 8,
   "id": "116ec0cc",
   "metadata": {
    "scrolled": true
   },
   "outputs": [],
   "source": [
    "# report.show_notebook(layout='vertical')"
   ]
  },
  {
   "cell_type": "code",
   "execution_count": 9,
   "id": "1fbb6f9e",
   "metadata": {
    "scrolled": true
   },
   "outputs": [],
   "source": [
    "# ProfileReport(data, progress_bar=False).to_widgets()"
   ]
  },
  {
   "cell_type": "markdown",
   "id": "433f9119",
   "metadata": {},
   "source": [
    "# Предобработка данных"
   ]
  },
  {
   "cell_type": "markdown",
   "id": "6a3152fb",
   "metadata": {},
   "source": [
    "#### 1. Пропуски"
   ]
  },
  {
   "cell_type": "markdown",
   "id": "bbb2ff73",
   "metadata": {},
   "source": [
    "Количество пропусков в колонке `tenure`:"
   ]
  },
  {
   "cell_type": "code",
   "execution_count": 10,
   "id": "93518ada",
   "metadata": {},
   "outputs": [
    {
     "data": {
      "text/plain": [
       "909"
      ]
     },
     "execution_count": 10,
     "metadata": {},
     "output_type": "execute_result"
    }
   ],
   "source": [
    "data['tenure'].isna().sum()"
   ]
  },
  {
   "cell_type": "markdown",
   "id": "0cd32869",
   "metadata": {},
   "source": [
    "Числовое описание столбца `tenure`:"
   ]
  },
  {
   "cell_type": "code",
   "execution_count": 11,
   "id": "4434042d",
   "metadata": {},
   "outputs": [
    {
     "data": {
      "text/plain": [
       "count    9091.000000\n",
       "mean        4.997690\n",
       "std         2.894723\n",
       "min         0.000000\n",
       "25%         2.000000\n",
       "50%         5.000000\n",
       "75%         7.000000\n",
       "max        10.000000\n",
       "Name: tenure, dtype: float64"
      ]
     },
     "execution_count": 11,
     "metadata": {},
     "output_type": "execute_result"
    }
   ],
   "source": [
    "data['tenure'].describe()"
   ]
  },
  {
   "cell_type": "markdown",
   "id": "cffba198",
   "metadata": {},
   "source": [
    "В нашем распоряжении данные о **10 000** пользователей. У порядка **9 %** из них нет данных о количестве лет, которые человек является клиентом банка.\n",
    "\n",
    "Можно предположить, что эти **909** человек являются новыми клиентами, которые не пробыли с банком и года. Или, что данные каким-то образом потерялись. \n",
    "\n",
    "Мы могли бы заменить пропуски на **\"0\"** или на **\"5\"** (медиана, среднее), но это может сильно повлиять на результат обучения модели.\n",
    "\n",
    "Поэтому удалим данные, где есть пропуски в `tenure`. Заодно сменим тип столбца на `int`."
   ]
  },
  {
   "cell_type": "code",
   "execution_count": 12,
   "id": "8ce135f1",
   "metadata": {},
   "outputs": [
    {
     "name": "stdout",
     "output_type": "stream",
     "text": [
      "<class 'pandas.core.frame.DataFrame'>\n",
      "Int64Index: 9091 entries, 0 to 9998\n",
      "Data columns (total 14 columns):\n",
      " #   Column            Non-Null Count  Dtype  \n",
      "---  ------            --------------  -----  \n",
      " 0   row_number        9091 non-null   int64  \n",
      " 1   customer_id       9091 non-null   int64  \n",
      " 2   surname           9091 non-null   object \n",
      " 3   credit_score      9091 non-null   int64  \n",
      " 4   geography         9091 non-null   object \n",
      " 5   gender            9091 non-null   object \n",
      " 6   age               9091 non-null   int64  \n",
      " 7   tenure            9091 non-null   int64  \n",
      " 8   balance           9091 non-null   float64\n",
      " 9   num_of_products   9091 non-null   int64  \n",
      " 10  has_cr_card       9091 non-null   int64  \n",
      " 11  is_active_member  9091 non-null   int64  \n",
      " 12  estimated_salary  9091 non-null   float64\n",
      " 13  exited            9091 non-null   int64  \n",
      "dtypes: float64(2), int64(9), object(3)\n",
      "memory usage: 1.0+ MB\n"
     ]
    }
   ],
   "source": [
    "data = data[data['tenure'].isna()==False]\n",
    "data['tenure'] = data['tenure'].astype('int64')\n",
    "data.info()"
   ]
  },
  {
   "cell_type": "markdown",
   "id": "87d9f406",
   "metadata": {},
   "source": [
    "#### 2. Дубликаты"
   ]
  },
  {
   "cell_type": "markdown",
   "id": "45c8a9bf",
   "metadata": {},
   "source": [
    "Проверим данных на наличие дубликатов."
   ]
  },
  {
   "cell_type": "code",
   "execution_count": 13,
   "id": "d8f71b96",
   "metadata": {},
   "outputs": [
    {
     "data": {
      "text/plain": [
       "0"
      ]
     },
     "execution_count": 13,
     "metadata": {},
     "output_type": "execute_result"
    }
   ],
   "source": [
    "data.duplicated().sum()"
   ]
  },
  {
   "cell_type": "markdown",
   "id": "5a77178a",
   "metadata": {},
   "source": [
    "#### 3. Вывод"
   ]
  },
  {
   "cell_type": "code",
   "execution_count": 14,
   "id": "223e03cb",
   "metadata": {},
   "outputs": [
    {
     "data": {
      "text/plain": [
       "array(['France', 'Spain', 'Germany'], dtype=object)"
      ]
     },
     "execution_count": 14,
     "metadata": {},
     "output_type": "execute_result"
    }
   ],
   "source": [
    "data['geography'].unique()"
   ]
  },
  {
   "cell_type": "markdown",
   "id": "7e1e93ac",
   "metadata": {},
   "source": [
    "- В нашем распоряжении данные о **9091** пользователей. Около **909** строк с пропусками в одном из признаков мы удалили, что бы они не повлияли на обучение модели.\n",
    "\n",
    "- Дубликатов в данных нет.\n",
    "\n",
    "- Из интересных наблюдений: клиенты банка являются гражданинами трех стран (Франции, Испании, Германии)."
   ]
  },
  {
   "cell_type": "markdown",
   "id": "a5a6f157",
   "metadata": {},
   "source": [
    "# Подготовка данных к обработке моделями"
   ]
  },
  {
   "cell_type": "markdown",
   "id": "7ae4e035",
   "metadata": {},
   "source": [
    "#### 1. Удаление лишних столбцов"
   ]
  },
  {
   "cell_type": "markdown",
   "id": "a620cdac",
   "metadata": {},
   "source": [
    "В наших данных есть столбцы, которые не нужны модели для предсказания оттока клиентов. Удалим их."
   ]
  },
  {
   "cell_type": "code",
   "execution_count": 15,
   "id": "f7fc6e80",
   "metadata": {},
   "outputs": [
    {
     "name": "stdout",
     "output_type": "stream",
     "text": [
      "   credit_score geography  gender  age  tenure    balance  num_of_products  \\\n",
      "0           619    France  Female   42       2       0.00                1   \n",
      "1           608     Spain  Female   41       1   83807.86                1   \n",
      "2           502    France  Female   42       8  159660.80                3   \n",
      "3           699    France  Female   39       1       0.00                2   \n",
      "4           850     Spain  Female   43       2  125510.82                1   \n",
      "\n",
      "   has_cr_card  is_active_member  estimated_salary  exited  \n",
      "0            1                 1         101348.88       1  \n",
      "1            0                 1         112542.58       0  \n",
      "2            1                 0         113931.57       1  \n",
      "3            0                 0          93826.63       0  \n",
      "4            1                 1          79084.10       0  \n"
     ]
    }
   ],
   "source": [
    "try:\n",
    "    data = data.drop(['row_number', 'customer_id', 'surname'], axis=1)\n",
    "    print(data.head())\n",
    "except:\n",
    "    print(data.head())"
   ]
  },
  {
   "cell_type": "markdown",
   "id": "c209f2ad",
   "metadata": {},
   "source": [
    "#### 2. Кодирование строковых столбцов"
   ]
  },
  {
   "cell_type": "markdown",
   "id": "0076f0ff",
   "metadata": {},
   "source": [
    "Используя фиктивные переменные, закодируем данные столбцов `geography` и `gender`."
   ]
  },
  {
   "cell_type": "code",
   "execution_count": 16,
   "id": "3a0e8b6e",
   "metadata": {},
   "outputs": [
    {
     "data": {
      "text/html": [
       "<div>\n",
       "<style scoped>\n",
       "    .dataframe tbody tr th:only-of-type {\n",
       "        vertical-align: middle;\n",
       "    }\n",
       "\n",
       "    .dataframe tbody tr th {\n",
       "        vertical-align: top;\n",
       "    }\n",
       "\n",
       "    .dataframe thead th {\n",
       "        text-align: right;\n",
       "    }\n",
       "</style>\n",
       "<table border=\"1\" class=\"dataframe\">\n",
       "  <thead>\n",
       "    <tr style=\"text-align: right;\">\n",
       "      <th></th>\n",
       "      <th>credit_score</th>\n",
       "      <th>age</th>\n",
       "      <th>tenure</th>\n",
       "      <th>balance</th>\n",
       "      <th>num_of_products</th>\n",
       "      <th>has_cr_card</th>\n",
       "      <th>is_active_member</th>\n",
       "      <th>estimated_salary</th>\n",
       "      <th>exited</th>\n",
       "      <th>geography_germany</th>\n",
       "      <th>geography_spain</th>\n",
       "      <th>gender_male</th>\n",
       "    </tr>\n",
       "  </thead>\n",
       "  <tbody>\n",
       "    <tr>\n",
       "      <th>0</th>\n",
       "      <td>619</td>\n",
       "      <td>42</td>\n",
       "      <td>2</td>\n",
       "      <td>0.00</td>\n",
       "      <td>1</td>\n",
       "      <td>1</td>\n",
       "      <td>1</td>\n",
       "      <td>101348.88</td>\n",
       "      <td>1</td>\n",
       "      <td>0</td>\n",
       "      <td>0</td>\n",
       "      <td>0</td>\n",
       "    </tr>\n",
       "    <tr>\n",
       "      <th>1</th>\n",
       "      <td>608</td>\n",
       "      <td>41</td>\n",
       "      <td>1</td>\n",
       "      <td>83807.86</td>\n",
       "      <td>1</td>\n",
       "      <td>0</td>\n",
       "      <td>1</td>\n",
       "      <td>112542.58</td>\n",
       "      <td>0</td>\n",
       "      <td>0</td>\n",
       "      <td>1</td>\n",
       "      <td>0</td>\n",
       "    </tr>\n",
       "    <tr>\n",
       "      <th>2</th>\n",
       "      <td>502</td>\n",
       "      <td>42</td>\n",
       "      <td>8</td>\n",
       "      <td>159660.80</td>\n",
       "      <td>3</td>\n",
       "      <td>1</td>\n",
       "      <td>0</td>\n",
       "      <td>113931.57</td>\n",
       "      <td>1</td>\n",
       "      <td>0</td>\n",
       "      <td>0</td>\n",
       "      <td>0</td>\n",
       "    </tr>\n",
       "    <tr>\n",
       "      <th>3</th>\n",
       "      <td>699</td>\n",
       "      <td>39</td>\n",
       "      <td>1</td>\n",
       "      <td>0.00</td>\n",
       "      <td>2</td>\n",
       "      <td>0</td>\n",
       "      <td>0</td>\n",
       "      <td>93826.63</td>\n",
       "      <td>0</td>\n",
       "      <td>0</td>\n",
       "      <td>0</td>\n",
       "      <td>0</td>\n",
       "    </tr>\n",
       "    <tr>\n",
       "      <th>4</th>\n",
       "      <td>850</td>\n",
       "      <td>43</td>\n",
       "      <td>2</td>\n",
       "      <td>125510.82</td>\n",
       "      <td>1</td>\n",
       "      <td>1</td>\n",
       "      <td>1</td>\n",
       "      <td>79084.10</td>\n",
       "      <td>0</td>\n",
       "      <td>0</td>\n",
       "      <td>1</td>\n",
       "      <td>0</td>\n",
       "    </tr>\n",
       "  </tbody>\n",
       "</table>\n",
       "</div>"
      ],
      "text/plain": [
       "   credit_score  age  tenure    balance  num_of_products  has_cr_card  \\\n",
       "0           619   42       2       0.00                1            1   \n",
       "1           608   41       1   83807.86                1            0   \n",
       "2           502   42       8  159660.80                3            1   \n",
       "3           699   39       1       0.00                2            0   \n",
       "4           850   43       2  125510.82                1            1   \n",
       "\n",
       "   is_active_member  estimated_salary  exited  geography_germany  \\\n",
       "0                 1         101348.88       1                  0   \n",
       "1                 1         112542.58       0                  0   \n",
       "2                 0         113931.57       1                  0   \n",
       "3                 0          93826.63       0                  0   \n",
       "4                 1          79084.10       0                  0   \n",
       "\n",
       "   geography_spain  gender_male  \n",
       "0                0            0  \n",
       "1                1            0  \n",
       "2                0            0  \n",
       "3                0            0  \n",
       "4                1            0  "
      ]
     },
     "execution_count": 16,
     "metadata": {},
     "output_type": "execute_result"
    }
   ],
   "source": [
    "data_ohe = pd.get_dummies(data, drop_first=True)\n",
    "data_ohe.rename(columns={\n",
    "    'geography_Germany':'geography_germany',\n",
    "    'geography_Spain':'geography_spain',\n",
    "    'gender_Male':'gender_male',\n",
    "}, inplace=True)\n",
    "data_ohe.head()"
   ]
  },
  {
   "cell_type": "markdown",
   "id": "a4a8930c",
   "metadata": {},
   "source": [
    "#### 3. Формирование выборок"
   ]
  },
  {
   "cell_type": "markdown",
   "id": "120a6ad0",
   "metadata": {},
   "source": [
    "Обозначим целевой признак как `target`, а остальные данные как `features`."
   ]
  },
  {
   "cell_type": "code",
   "execution_count": 17,
   "id": "0ccee6fe",
   "metadata": {},
   "outputs": [],
   "source": [
    "features = data_ohe.drop('exited', axis=1)\n",
    "target = data_ohe['exited']"
   ]
  },
  {
   "cell_type": "markdown",
   "id": "1b0a617c",
   "metadata": {},
   "source": [
    "Разделим датафрейм `data_ohe` на три выборки: обучающую (`train` - **60 %**), валидационную (`valid` - **20 %**), тестовую (`test` - **20 %**)."
   ]
  },
  {
   "cell_type": "markdown",
   "id": "a5c726af",
   "metadata": {},
   "source": [
    "Выделим тестовую выборку (`test`):"
   ]
  },
  {
   "cell_type": "code",
   "execution_count": 18,
   "id": "96b39f74",
   "metadata": {},
   "outputs": [
    {
     "name": "stdout",
     "output_type": "stream",
     "text": [
      "Длинна тестовой выборки - 1819\n"
     ]
    }
   ],
   "source": [
    "features_rest, features_test, target_rest, target_test = train_test_split(\n",
    "    features, target, test_size=0.20, random_state=12345)\n",
    "print('Длинна тестовой выборки -', len(features_test))"
   ]
  },
  {
   "cell_type": "markdown",
   "id": "d58a2d96",
   "metadata": {},
   "source": [
    "Разделим остальные данные на обучающую (`train`) и валидационную (`valid`) выборки."
   ]
  },
  {
   "cell_type": "code",
   "execution_count": 19,
   "id": "9de7abbf",
   "metadata": {},
   "outputs": [
    {
     "name": "stdout",
     "output_type": "stream",
     "text": [
      "Длинна обучающей выборки - 5817\n",
      "Длинна валидационной выборки - 1455\n"
     ]
    }
   ],
   "source": [
    "features_train, features_valid, target_train, target_valid = train_test_split(\n",
    "    features_rest, target_rest, test_size=0.20, random_state=12345)\n",
    "print('Длинна обучающей выборки -', len(features_train))\n",
    "print('Длинна валидационной выборки -', len(features_valid))"
   ]
  },
  {
   "cell_type": "markdown",
   "id": "0cbd440d",
   "metadata": {},
   "source": [
    "#### 4. Вывод"
   ]
  },
  {
   "cell_type": "markdown",
   "id": "b1737259",
   "metadata": {},
   "source": [
    "Для того, чтобы модель лучше чувстовала себя при обучении, мы:\n",
    "\n",
    "- Удалили несколько ненужных для обучения столбцов.\n",
    "- Закодировали значения категориальных столбцов (`geography` и `gender`). Причем, чтобы не попать в \"ловушку фиктивных переменных\", столбцы, которые можно посчитать с помощью других столбцов, мы удалили.\n",
    "- Сформировали три выборки: обучающую (`train`) - на ней модель будет учиться; валидационную (`valid`) - на ней мы будем проверять разного рода метрики; тестовую (`test`) - для финального тестирования."
   ]
  },
  {
   "cell_type": "code",
   "execution_count": 20,
   "id": "194a6ebd",
   "metadata": {},
   "outputs": [
    {
     "data": {
      "text/html": [
       "<div>\n",
       "<style scoped>\n",
       "    .dataframe tbody tr th:only-of-type {\n",
       "        vertical-align: middle;\n",
       "    }\n",
       "\n",
       "    .dataframe tbody tr th {\n",
       "        vertical-align: top;\n",
       "    }\n",
       "\n",
       "    .dataframe thead th {\n",
       "        text-align: right;\n",
       "    }\n",
       "</style>\n",
       "<table border=\"1\" class=\"dataframe\">\n",
       "  <thead>\n",
       "    <tr style=\"text-align: right;\">\n",
       "      <th></th>\n",
       "      <th>credit_score</th>\n",
       "      <th>age</th>\n",
       "      <th>tenure</th>\n",
       "      <th>balance</th>\n",
       "      <th>num_of_products</th>\n",
       "      <th>has_cr_card</th>\n",
       "      <th>is_active_member</th>\n",
       "      <th>estimated_salary</th>\n",
       "      <th>geography_germany</th>\n",
       "      <th>geography_spain</th>\n",
       "      <th>gender_male</th>\n",
       "    </tr>\n",
       "  </thead>\n",
       "  <tbody>\n",
       "    <tr>\n",
       "      <th>3004</th>\n",
       "      <td>596</td>\n",
       "      <td>47</td>\n",
       "      <td>5</td>\n",
       "      <td>140187.1</td>\n",
       "      <td>2</td>\n",
       "      <td>1</td>\n",
       "      <td>1</td>\n",
       "      <td>174311.3</td>\n",
       "      <td>1</td>\n",
       "      <td>0</td>\n",
       "      <td>1</td>\n",
       "    </tr>\n",
       "  </tbody>\n",
       "</table>\n",
       "</div>"
      ],
      "text/plain": [
       "      credit_score  age  tenure   balance  num_of_products  has_cr_card  \\\n",
       "3004           596   47       5  140187.1                2            1   \n",
       "\n",
       "      is_active_member  estimated_salary  geography_germany  geography_spain  \\\n",
       "3004                 1          174311.3                  1                0   \n",
       "\n",
       "      gender_male  \n",
       "3004            1  "
      ]
     },
     "execution_count": 20,
     "metadata": {},
     "output_type": "execute_result"
    }
   ],
   "source": [
    "features_train.head(1)"
   ]
  },
  {
   "cell_type": "code",
   "execution_count": 21,
   "id": "55310cb7",
   "metadata": {},
   "outputs": [],
   "source": [
    "# scaler = StandardScaler()\n",
    "# scaler.fit(features_train[:])\n",
    "\n",
    "# features_train_scaled = features_train.copy()\n",
    "# features_train_scaled[:] = scaler.transform(features_train[:])\n",
    "# features_valid_scaled[:] = scaler.transform(features_valid[:])\n",
    "    \n",
    "# features_train_scaled"
   ]
  },
  {
   "cell_type": "markdown",
   "id": "6a538c1a",
   "metadata": {},
   "source": [
    "# Выбор лучшей модели"
   ]
  },
  {
   "cell_type": "markdown",
   "id": "080db5e0",
   "metadata": {},
   "source": [
    "Для начала рассмотрим три базовых модели, без изменения их гиперпараметров."
   ]
  },
  {
   "cell_type": "code",
   "execution_count": 22,
   "id": "c318b32d",
   "metadata": {},
   "outputs": [
    {
     "name": "stdout",
     "output_type": "stream",
     "text": [
      "Значения точности и метрик для каждой модели:\n",
      "\n",
      "DecisionTreeClassifier(random_state=12345) \n",
      "Валидационная выборка: 80.412 % \tОбучающая выборка: 100.0 % \tF1 мера: 0.494  \tAUC-ROC: 0.686 \n",
      "\n",
      "RandomForestClassifier(random_state=12345) \n",
      "Валидационная выборка: 87.079 % \tОбучающая выборка: 100.0 % \tF1 мера: 0.582  \tAUC-ROC: 0.842 \n",
      "\n",
      "LogisticRegression(random_state=12345) \n",
      "Валидационная выборка: 79.519 % \tОбучающая выборка: 78.7 % \tF1 мера: 0.051  \tAUC-ROC: 0.672 \n",
      "\n"
     ]
    }
   ],
   "source": [
    "tree_model = DecisionTreeClassifier(random_state=12345)\n",
    "forest_model = RandomForestClassifier(random_state=12345)\n",
    "logistic_model = LogisticRegression(random_state=12345)\n",
    "\n",
    "models = [tree_model, forest_model, logistic_model]\n",
    "\n",
    "print('Значения точности и метрик для каждой модели:\\n')\n",
    "for model in models:\n",
    "    model.fit(features_train, target_train)\n",
    "    \n",
    "    predicted_valid = model.predict(features_valid)\n",
    "    probabilities_valid = model.predict_proba(features_valid)\n",
    "    probabilities_valid = probabilities_valid[:, 1]\n",
    "    \n",
    "    print(model,  '\\nВалидационная выборка:', round(model.score(features_valid, target_valid)*100, 3), \n",
    "                  '% \\tОбучающая выборка:', round(model.score(features_train, target_train)*100, 3),\n",
    "                  '% \\tF1 мера:', round(f1_score(target_valid, predicted_valid), 3),\n",
    "                  ' \\tAUC-ROC:', round(roc_auc_score(target_valid, probabilities_valid), 3),'\\n')"
   ]
  },
  {
   "cell_type": "markdown",
   "id": "201e2a7c",
   "metadata": {},
   "source": [
    "#### Вывод"
   ]
  },
  {
   "cell_type": "markdown",
   "id": "510a6835",
   "metadata": {},
   "source": [
    "Видим, что у модели Случайного Леса лучшие показатели F1, которая отражает как точность, так и полноту, и AUC-ROС, которая при показателе **0.84** показывает, что данный классификатор очень хорошо подходит для решения нашей задачи. \n",
    "\n",
    "У остальных моделей AUC-ROC довольно меленький, даже можно сказать, что близкий к работе константной модели."
   ]
  },
  {
   "cell_type": "markdown",
   "id": "399b1274",
   "metadata": {},
   "source": [
    "# Подбор гиперпараметров"
   ]
  },
  {
   "cell_type": "markdown",
   "id": "350c419d",
   "metadata": {},
   "source": [
    "Обучим модель типа `RandomForestClassifier` и попытаемся добиться предельно большого значения F1-меры (минимум **0.59**)."
   ]
  },
  {
   "cell_type": "markdown",
   "id": "bfc21e6a",
   "metadata": {},
   "source": [
    "Сначала подберем оптимальные значения гиперпараметров (глубина дерева, количество деревьев), при которых значения метрик будут наилучшими."
   ]
  },
  {
   "cell_type": "markdown",
   "id": "ed29420a",
   "metadata": {},
   "source": [
    "Глубина дерева:"
   ]
  },
  {
   "cell_type": "code",
   "execution_count": 23,
   "id": "d3d3b575",
   "metadata": {},
   "outputs": [
    {
     "name": "stdout",
     "output_type": "stream",
     "text": [
      "RandomForestClassifier(max_depth=15, random_state=12345) \n",
      "best_depth = 15 \n",
      "best_f1 = 0.582392776523702 \n",
      "best_auc = 0.8458278161711802\n"
     ]
    }
   ],
   "source": [
    "best_model = None\n",
    "best_depth = 0\n",
    "best_f1 = 0\n",
    "best_auc = 0\n",
    "\n",
    "for depth in range(1, 20, 1):\n",
    "    \n",
    "    # Модель\n",
    "    model = RandomForestClassifier(max_depth=depth, random_state=12345)\n",
    "    model.fit(features_train, target_train)\n",
    "    \n",
    "    # Предсказания\n",
    "    predicted_valid = model.predict(features_valid)\n",
    "    probabilities_valid = model.predict_proba(features_valid)\n",
    "    probabilities_valid = probabilities_valid[:, 1]\n",
    "    \n",
    "    # Метрики\n",
    "    f1 = f1_score(target_valid, predicted_valid)\n",
    "    auc_roc = roc_auc_score(target_valid, probabilities_valid)\n",
    "    \n",
    "    if f1 > best_f1:\n",
    "        best_model = model\n",
    "        best_depth = depth\n",
    "        best_f1 = f1\n",
    "        best_auc = auc_roc\n",
    "\n",
    "print(best_model, '\\nbest_depth =', best_depth, '\\nbest_f1 =', best_f1, '\\nbest_auc =', best_auc)"
   ]
  },
  {
   "cell_type": "markdown",
   "id": "48d2d3b1",
   "metadata": {},
   "source": [
    "Число деревьев:"
   ]
  },
  {
   "cell_type": "code",
   "execution_count": 24,
   "id": "ddbf8dc1",
   "metadata": {},
   "outputs": [
    {
     "name": "stdout",
     "output_type": "stream",
     "text": [
      "RandomForestClassifier(max_depth=15, n_estimators=51, random_state=12345) \n",
      "best_est = 51 \n",
      "best_f1 = 0.5869074492099322 \n",
      "best_auc = 0.8371590696099593\n"
     ]
    }
   ],
   "source": [
    "best_model = None\n",
    "best_est = 0\n",
    "best_f1 = 0\n",
    "best_auc = 0\n",
    "\n",
    "for est in range(19, 60, 1):\n",
    "    \n",
    "    # Модель\n",
    "    model = RandomForestClassifier(n_estimators=est, max_depth=15, random_state=12345)\n",
    "    model.fit(features_train, target_train)\n",
    "    \n",
    "    # Предсказания\n",
    "    predicted_valid = model.predict(features_valid)\n",
    "    probabilities_valid = model.predict_proba(features_valid)\n",
    "    probabilities_valid = probabilities_valid[:, 1]\n",
    "    \n",
    "    # Метрики\n",
    "    f1 = f1_score(target_valid, predicted_valid)\n",
    "    auc_roc = roc_auc_score(target_valid, probabilities_valid)\n",
    "\n",
    "    if f1 > best_f1:\n",
    "        best_model = model\n",
    "        best_est = est\n",
    "        best_f1 = f1\n",
    "        best_auc = auc_roc\n",
    "        \n",
    "print(best_model, '\\nbest_est =', best_est, '\\nbest_f1 =', best_f1, '\\nbest_auc =', best_auc)"
   ]
  },
  {
   "cell_type": "markdown",
   "id": "cf88e26a",
   "metadata": {},
   "source": [
    "#### Вывод"
   ]
  },
  {
   "cell_type": "markdown",
   "id": "fdc8480e",
   "metadata": {},
   "source": [
    "Подобрали гиперпараметры для модели Случайного Леса, при которых F1-мера будет максимальной:\n",
    "\n",
    "*RandomForestClassifier(max_depth=15, n_estimators=51, random_state=12345)*"
   ]
  },
  {
   "cell_type": "code",
   "execution_count": 25,
   "id": "e908143b-912a-422e-8eb4-a2b80eeb3bd6",
   "metadata": {},
   "outputs": [],
   "source": [
    "best_model = RandomForestClassifier(max_depth=15, n_estimators=50, random_state=12345)"
   ]
  },
  {
   "cell_type": "markdown",
   "id": "1b6e7a66-5818-49f6-8a25-99ab216471c0",
   "metadata": {},
   "source": [
    "**RandomForestClassifier(max_depth=15, n_estimators=50, random_state=12345)**"
   ]
  },
  {
   "cell_type": "markdown",
   "id": "369cc56c",
   "metadata": {},
   "source": [
    "# Взвешивание классов"
   ]
  },
  {
   "cell_type": "markdown",
   "id": "3b085537",
   "metadata": {},
   "source": [
    "Посмотрим на соотношение классов."
   ]
  },
  {
   "cell_type": "code",
   "execution_count": 26,
   "id": "e7eba1c7",
   "metadata": {
    "scrolled": true
   },
   "outputs": [
    {
     "data": {
      "text/plain": [
       "0    0.793192\n",
       "1    0.206808\n",
       "Name: exited, dtype: float64"
      ]
     },
     "execution_count": 26,
     "metadata": {},
     "output_type": "execute_result"
    }
   ],
   "source": [
    "target_train.value_counts(normalize=True)"
   ]
  },
  {
   "cell_type": "markdown",
   "id": "d632ffeb",
   "metadata": {},
   "source": [
    "Попробуем их сбалансировать, увеличив выборку. Добавим несколько раз объекты класса **1** и перемешаем данные."
   ]
  },
  {
   "cell_type": "code",
   "execution_count": 27,
   "id": "86502c8f",
   "metadata": {},
   "outputs": [
    {
     "name": "stdout",
     "output_type": "stream",
     "text": [
      "Соотношение классов в увеличенной выборке:\n",
      " 1    0.510503\n",
      "0    0.489497\n",
      "Name: exited, dtype: float64\n"
     ]
    }
   ],
   "source": [
    "# Функция увеличения выборки\n",
    "def upsample(features, target, repeat):\n",
    "    \n",
    "    # Положительные и отрицательные объекты\n",
    "    features_zeros = features_train[target_train == 0]\n",
    "    features_ones = features_train[target_train == 1]\n",
    "    target_zeros = target_train[target_train == 0]\n",
    "    target_ones = target_train[target_train == 1]\n",
    "    \n",
    "    # Добавляем объекты\n",
    "    features_upsampled = pd.concat([features_zeros] + [features_ones] * repeat)\n",
    "    target_upsampled = pd.concat([target_zeros] + [target_ones] * repeat)\n",
    " \n",
    "    # Перемешиваем\n",
    "    features_upsampled = shuffle(features_upsampled, random_state=12345)\n",
    "    target_upsampled = shuffle(target_upsampled, random_state=12345)\n",
    "\n",
    "    return features_upsampled, target_upsampled\n",
    "\n",
    "\n",
    "features_upsampled, target_upsampled = upsample(features_train, target_train, 4)\n",
    "\n",
    "print('Соотношение классов в увеличенной выборке:\\n', target_upsampled.value_counts(normalize=True))"
   ]
  },
  {
   "cell_type": "markdown",
   "id": "a1809bd5",
   "metadata": {},
   "source": [
    "Обучим нашу лучшую модель на основе увеличенной обучающей выборки."
   ]
  },
  {
   "cell_type": "code",
   "execution_count": 28,
   "id": "92263d56",
   "metadata": {},
   "outputs": [
    {
     "name": "stdout",
     "output_type": "stream",
     "text": [
      "Метрики:\n",
      "F1 = 0.612167300380228 \n",
      "AUC_ROC = 0.8417390699727316\n"
     ]
    }
   ],
   "source": [
    "best_model.fit(features_upsampled, target_upsampled)\n",
    "\n",
    "predicted_valid = best_model.predict(features_valid)\n",
    "probabilities_valid = best_model.predict_proba(features_valid)\n",
    "probabilities_valid = probabilities_valid[:, 1]\n",
    "\n",
    "f1 = f1_score(target_valid, predicted_valid)\n",
    "auc_roc = roc_auc_score(target_valid, probabilities_valid)\n",
    "\n",
    "print('Метрики:\\nF1 =', f1, '\\nAUC_ROC =', auc_roc)"
   ]
  },
  {
   "cell_type": "markdown",
   "id": "45f3da95",
   "metadata": {},
   "source": [
    "Построим кривую ошибок для лучшей модели."
   ]
  },
  {
   "cell_type": "code",
   "execution_count": 29,
   "id": "8200fca0",
   "metadata": {},
   "outputs": [
    {
     "name": "stdout",
     "output_type": "stream",
     "text": [
      "AUC-ROC = 0.8417390699727316 - Площадь под графиком.\n"
     ]
    },
    {
     "data": {
      "image/png": "[encoded data removed]",
      "text/plain": [
       "<Figure size 432x432 with 1 Axes>"
      ]
     },
     "metadata": {
      "needs_background": "light"
     },
     "output_type": "display_data"
    }
   ],
   "source": [
    "fpr, tpr, thresholds = roc_curve(target_valid, probabilities_valid)\n",
    "\n",
    "print('AUC-ROC =', auc_roc, '- Площадь под графиком.')\n",
    "\n",
    "plt.figure(figsize=(6, 6))\n",
    "plt.step(fpr, tpr)\n",
    "plt.xlabel('FPR')\n",
    "plt.ylabel('TPR')\n",
    "plt.ylim([0.0, 1.1])\n",
    "plt.xlim([0.0, 1])\n",
    "plt.title('Кривая ROC')\n",
    "plt.show() "
   ]
  },
  {
   "cell_type": "markdown",
   "id": "86fc381e",
   "metadata": {},
   "source": [
    "#### Вывод"
   ]
  },
  {
   "cell_type": "markdown",
   "id": "e2694311",
   "metadata": {},
   "source": [
    "Балансировка классов сильно помогла модели повысить полноту/точность при решении задачи классификации. Для этого мы увеличили долю \"положительных\" объектов в обучающей выборке.\n",
    "\n",
    "По \"кривой ошибок\" видно как сильно наша модель отличается от случайной модели. AUC-ROC равное **0.84** является хорошим показателем качества классификатора."
   ]
  },
  {
   "cell_type": "code",
   "execution_count": 30,
   "id": "47dc0d55",
   "metadata": {},
   "outputs": [
    {
     "name": "stdout",
     "output_type": "stream",
     "text": [
      "Значение F1-меры выросло на 0.025 и составляет сейчас 0.612167300380228\n"
     ]
    }
   ],
   "source": [
    "print('Значение F1-меры выросло на', round(f1 - best_f1, 3), 'и составляет сейчас', f1)"
   ]
  },
  {
   "cell_type": "markdown",
   "id": "45e60d17",
   "metadata": {},
   "source": [
    "# Финальное тестирование"
   ]
  },
  {
   "cell_type": "markdown",
   "id": "ca7d28f0",
   "metadata": {},
   "source": [
    "Теперь у нас есть обученная модель (`best_model`) с показателем F1 =**0.612**."
   ]
  },
  {
   "cell_type": "markdown",
   "id": "356a668a",
   "metadata": {},
   "source": [
    "Тестирование будем проводить на тестовой (`test`) выборке."
   ]
  },
  {
   "cell_type": "code",
   "execution_count": 31,
   "id": "611c6d73",
   "metadata": {},
   "outputs": [
    {
     "name": "stdout",
     "output_type": "stream",
     "text": [
      "Ошибок: 289 из 1819\n",
      "\n",
      "Это 15.888 % от тестового набора данных\n"
     ]
    }
   ],
   "source": [
    "predictions_test = best_model.predict(features_test).tolist()\n",
    "\n",
    "def error_count(answers, predictions):\n",
    "    errors = 0\n",
    "    for i in range (len(answers)):\n",
    "        if answers[i] != predictions[i]:\n",
    "            errors += 1\n",
    "    return errors\n",
    "\n",
    "errors = error_count(target_test.reset_index(drop=True), predictions_test)\n",
    "\n",
    "print(\"Ошибок:\", errors, 'из', len(target_test))\n",
    "print('\\nЭто', round(errors*100/len(target_test), 3), '% от тестового набора данных')"
   ]
  },
  {
   "cell_type": "code",
   "execution_count": 32,
   "id": "ea29faab",
   "metadata": {},
   "outputs": [
    {
     "name": "stdout",
     "output_type": "stream",
     "text": [
      "f1 - 0.585 \n",
      "auc_roc - 0.846 \n",
      "\n",
      "precision - 0.622 \n",
      "recall - 0.553\n"
     ]
    }
   ],
   "source": [
    "probabilities_test = best_model.predict_proba(features_test)\n",
    "probabilities_test = probabilities_test[:, 1]\n",
    "\n",
    "f1 = round(f1_score(target_test, predictions_test), 3)\n",
    "auc_roc = round(roc_auc_score(target_test, probabilities_test), 3)\n",
    "precision = round(precision_score(target_test, predictions_test), 3) # Точность\n",
    "recall = round(recall_score(target_test, predictions_test), 3) # Полнота\n",
    "\n",
    "print('f1 -', f1, '\\nauc_roc -', auc_roc, '\\n\\nprecision -', precision, '\\nrecall -', recall)"
   ]
  },
  {
   "cell_type": "code",
   "execution_count": 33,
   "id": "5626e264",
   "metadata": {},
   "outputs": [
    {
     "data": {
      "image/png": "[encoded data removed]",
      "text/plain": [
       "<Figure size 432x360 with 1 Axes>"
      ]
     },
     "metadata": {
      "needs_background": "light"
     },
     "output_type": "display_data"
    }
   ],
   "source": [
    "importances = pd.Series(best_model.feature_importances_, index=features_test.columns)\n",
    "\n",
    "plt.figure(figsize=(6, 5))\n",
    "importances.plot.bar(color='black', title='График важности факторов', xlabel='Факторы', ylabel='Относительный вес')\n",
    "plt.xticks(rotation=45)\n",
    "plt.show()"
   ]
  },
  {
   "cell_type": "code",
   "execution_count": 34,
   "id": "3497cf73",
   "metadata": {},
   "outputs": [
    {
     "name": "stdout",
     "output_type": "stream",
     "text": [
      "Доля в процентах.\n"
     ]
    },
    {
     "data": {
      "text/plain": [
       "age                  25.9\n",
       "num_of_products      14.6\n",
       "balance              14.2\n",
       "estimated_salary     13.2\n",
       "credit_score         12.7\n",
       "tenure                7.6\n",
       "is_active_member      3.4\n",
       "geography_germany     3.2\n",
       "gender_male           2.1\n",
       "has_cr_card           1.8\n",
       "geography_spain       1.4\n",
       "dtype: float64"
      ]
     },
     "execution_count": 34,
     "metadata": {},
     "output_type": "execute_result"
    }
   ],
   "source": [
    "print('Доля в процентах.')\n",
    "round(importances.sort_values(ascending=False) * 100, 1)"
   ]
  },
  {
   "cell_type": "markdown",
   "id": "db230e2c",
   "metadata": {},
   "source": [
    "Добавим предсказания к признакам тестовой выборки и получим обработанную моделью таблицу. "
   ]
  },
  {
   "cell_type": "code",
   "execution_count": 35,
   "id": "5f6b911f",
   "metadata": {},
   "outputs": [
    {
     "name": "stdout",
     "output_type": "stream",
     "text": [
      "Длинна тестовой выборки - 1819\n",
      "Доля людей, которые предположительно уйдут - 18.032 %\n"
     ]
    },
    {
     "name": "stderr",
     "output_type": "stream",
     "text": [
      "C:\\Users\\VINOGR~1\\AppData\\Local\\Temp/ipykernel_52840/2645013249.py:2: SettingWithCopyWarning: \n",
      "A value is trying to be set on a copy of a slice from a DataFrame.\n",
      "Try using .loc[row_indexer,col_indexer] = value instead\n",
      "\n",
      "See the caveats in the documentation: https://pandas.pydata.org/pandas-docs/stable/user_guide/indexing.html#returning-a-view-versus-a-copy\n",
      "  features_test['predict'] = predictions_test\n"
     ]
    },
    {
     "data": {
      "text/html": [
       "<div>\n",
       "<style scoped>\n",
       "    .dataframe tbody tr th:only-of-type {\n",
       "        vertical-align: middle;\n",
       "    }\n",
       "\n",
       "    .dataframe tbody tr th {\n",
       "        vertical-align: top;\n",
       "    }\n",
       "\n",
       "    .dataframe thead th {\n",
       "        text-align: right;\n",
       "    }\n",
       "</style>\n",
       "<table border=\"1\" class=\"dataframe\">\n",
       "  <thead>\n",
       "    <tr style=\"text-align: right;\">\n",
       "      <th></th>\n",
       "      <th>credit_score</th>\n",
       "      <th>age</th>\n",
       "      <th>tenure</th>\n",
       "      <th>balance</th>\n",
       "      <th>num_of_products</th>\n",
       "      <th>estimated_salary</th>\n",
       "      <th>has_cr_card</th>\n",
       "      <th>is_active_member</th>\n",
       "      <th>geography_germany</th>\n",
       "      <th>geography_spain</th>\n",
       "      <th>gender_male</th>\n",
       "      <th>geography_france</th>\n",
       "      <th>gender_female</th>\n",
       "      <th>all_people</th>\n",
       "    </tr>\n",
       "    <tr>\n",
       "      <th>predict</th>\n",
       "      <th></th>\n",
       "      <th></th>\n",
       "      <th></th>\n",
       "      <th></th>\n",
       "      <th></th>\n",
       "      <th></th>\n",
       "      <th></th>\n",
       "      <th></th>\n",
       "      <th></th>\n",
       "      <th></th>\n",
       "      <th></th>\n",
       "      <th></th>\n",
       "      <th></th>\n",
       "      <th></th>\n",
       "    </tr>\n",
       "  </thead>\n",
       "  <tbody>\n",
       "    <tr>\n",
       "      <th>Останутся</th>\n",
       "      <td>656.928907</td>\n",
       "      <td>36.892689</td>\n",
       "      <td>4.948357</td>\n",
       "      <td>72914.363488</td>\n",
       "      <td>1.552649</td>\n",
       "      <td>98470.521335</td>\n",
       "      <td>1065</td>\n",
       "      <td>849</td>\n",
       "      <td>320.0</td>\n",
       "      <td>398.0</td>\n",
       "      <td>858.0</td>\n",
       "      <td>773.0</td>\n",
       "      <td>633.0</td>\n",
       "      <td>1491.0</td>\n",
       "    </tr>\n",
       "    <tr>\n",
       "      <th>Уйдут</th>\n",
       "      <td>651.658537</td>\n",
       "      <td>47.381098</td>\n",
       "      <td>5.167683</td>\n",
       "      <td>84424.489543</td>\n",
       "      <td>1.432927</td>\n",
       "      <td>99171.952957</td>\n",
       "      <td>244</td>\n",
       "      <td>104</td>\n",
       "      <td>154.0</td>\n",
       "      <td>54.0</td>\n",
       "      <td>146.0</td>\n",
       "      <td>120.0</td>\n",
       "      <td>182.0</td>\n",
       "      <td>328.0</td>\n",
       "    </tr>\n",
       "  </tbody>\n",
       "</table>\n",
       "</div>"
      ],
      "text/plain": [
       "           credit_score        age    tenure       balance  num_of_products  \\\n",
       "predict                                                                       \n",
       "Останутся    656.928907  36.892689  4.948357  72914.363488         1.552649   \n",
       "Уйдут        651.658537  47.381098  5.167683  84424.489543         1.432927   \n",
       "\n",
       "           estimated_salary  has_cr_card  is_active_member  geography_germany  \\\n",
       "predict                                                                         \n",
       "Останутся      98470.521335         1065               849              320.0   \n",
       "Уйдут          99171.952957          244               104              154.0   \n",
       "\n",
       "           geography_spain  gender_male  geography_france  gender_female  \\\n",
       "predict                                                                    \n",
       "Останутся            398.0        858.0             773.0          633.0   \n",
       "Уйдут                 54.0        146.0             120.0          182.0   \n",
       "\n",
       "           all_people  \n",
       "predict                \n",
       "Останутся      1491.0  \n",
       "Уйдут           328.0  "
      ]
     },
     "execution_count": 35,
     "metadata": {},
     "output_type": "execute_result"
    }
   ],
   "source": [
    "features_test_grouped = pd.DataFrame()\n",
    "features_test['predict'] = predictions_test\n",
    "\n",
    "# Разделим столбцы на две категории\n",
    "numeric_list = ['credit_score', 'age', 'tenure', 'balance', 'num_of_products', 'estimated_salary']\n",
    "categorial_list = ['has_cr_card', 'is_active_member', 'geography_germany', 'geography_spain', 'gender_male']\n",
    "\n",
    "# Составляем сгруппированную таблицу\n",
    "for column in numeric_list:\n",
    "    features_test_grouped[column] = features_test.groupby('predict')[column].mean()   \n",
    "\n",
    "for column in categorial_list:\n",
    "    features_test_grouped[column] = features_test.groupby('predict')[column].sum()\n",
    "\n",
    "# Добавим недостающий колонки\n",
    "features_test_grouped.loc[0, 'geography_france'] = len(features_test.query('predict == 0')) - \\\n",
    "    (features_test_grouped.loc[0, 'geography_germany'] + features_test_grouped.loc[0, 'geography_spain'])\n",
    "features_test_grouped.loc[1, 'geography_france'] = len(features_test.query('predict == 1')) - \\\n",
    "    (features_test_grouped.loc[1, 'geography_germany'] + features_test_grouped.loc[1, 'geography_spain'])\n",
    "\n",
    "features_test_grouped.loc[0, 'gender_female'] = len(features_test.query('predict == 0')) - \\\n",
    "    features_test_grouped.loc[0, 'gender_male']\n",
    "features_test_grouped.loc[1, 'gender_female'] = len(features_test.query('predict == 1')) - \\\n",
    "    features_test_grouped.loc[1, 'gender_male']\n",
    "\n",
    "features_test_grouped.loc[0, 'all_people'] = features_test_grouped.loc[0, 'gender_male'] + \\\n",
    "    features_test_grouped.loc[0, 'gender_female']\n",
    "features_test_grouped.loc[1, 'all_people'] = features_test_grouped.loc[1, 'gender_male'] + \\\n",
    "    features_test_grouped.loc[1, 'gender_female']\n",
    "\n",
    "print('Длинна тестовой выборки -', len(features_test))\n",
    "print('Доля людей, которые предположительно уйдут -', round(features_test_grouped.loc[1, 'all_people'] * 100 / \\\n",
    "                                                            len(features_test), 3), '%')\n",
    "\n",
    "# Дадим имена классам\n",
    "features_test_grouped.rename(index={\n",
    "    0:'Останутся',\n",
    "    1:'Уйдут'\n",
    "}, inplace=True)\n",
    "\n",
    "features_test_grouped"
   ]
  },
  {
   "cell_type": "markdown",
   "id": "7a34bd72",
   "metadata": {},
   "source": [
    "Эта таблица очень показательная. Дает достаточное представление о тестовых данных и о предсказаниях."
   ]
  },
  {
   "cell_type": "markdown",
   "id": "192a8683",
   "metadata": {},
   "source": [
    "# Вывод"
   ]
  },
  {
   "cell_type": "markdown",
   "id": "147a4c7c",
   "metadata": {},
   "source": [
    "В нашем распоряжении были данные о **9091** пользователей. Около **909** строк с пропусками в одном из признаков (`tenure`) мы удалили, что бы они не повлияли на нашу дальнейшую работу.\n",
    "\n",
    "Мы построили модель для задачи классификации, которая прогнозирует, уйдёт клиент из банка в ближайшее время или нет. Была цель добиться показателя F1-меры в **0.59** и больше.\n",
    "\n",
    "Мы разбили исходные данные на три выборки: тестовую (**20** процентов), валидационную (**20** процентов), обучающую (**60** процентов)."
   ]
  },
  {
   "cell_type": "markdown",
   "id": "84ea1fd5",
   "metadata": {},
   "source": [
    "Для решения нашей задачи была выбрана модель Случайного Леса с такими параметрами:\n",
    "\n",
    "RandomForestClassifier(max_depth=15, n_estimators=50, random_state=12345)"
   ]
  },
  {
   "cell_type": "markdown",
   "id": "50ce0444",
   "metadata": {},
   "source": [
    "Балансировка классов сильно помогла модели повысить полноту/точность при решении задачи классификации. Для этого мы увеличили долю \"положительных\" объектов в обучающей выборке.\n",
    "\n",
    "Итоговое значение F1-меры составило около **0.612**."
   ]
  },
  {
   "cell_type": "markdown",
   "id": "60e91ec0",
   "metadata": {},
   "source": [
    "По итогу финального тестирования, наша модель ошиблась **289** раз, что составляет примерно **16 %** от числа тестовых данных. \n",
    "\n",
    "Было предсказано, что :\n",
    "\n",
    "- почти **18 %** людей расторгнут договор с банком в близжайшее время. \n",
    "- относительно уроженцев других стран, граждане **Франции** преимущественно **не** будут покидать банк.\n",
    "- доля активных людей (`is_active_member`): **57 %** тех, кто останется; **30 %** тех, кто уйдет.\n",
    "- доля людей с кредитными картами (`has_cr_card`): **71.5 %** тех, кто останется; **74 %** тех, кто уйдет.\n",
    "- возраст клиентов, которые по предсказанию уйдут, выше на **10** лет."
   ]
  }
 ],
 "metadata": {
  "ExecuteTimeLog": [
   {
    "duration": 1460,
    "start_time": "2023-07-24T12:24:24.362Z"
   },
   {
    "duration": 107,
    "start_time": "2023-07-24T12:24:25.823Z"
   },
   {
    "duration": 0,
    "start_time": "2023-07-24T12:24:25.932Z"
   },
   {
    "duration": 0,
    "start_time": "2023-07-24T12:24:25.933Z"
   },
   {
    "duration": 0,
    "start_time": "2023-07-24T12:24:25.934Z"
   },
   {
    "duration": 0,
    "start_time": "2023-07-24T12:24:25.935Z"
   },
   {
    "duration": 0,
    "start_time": "2023-07-24T12:24:25.936Z"
   },
   {
    "duration": 0,
    "start_time": "2023-07-24T12:24:25.937Z"
   },
   {
    "duration": 0,
    "start_time": "2023-07-24T12:24:25.938Z"
   },
   {
    "duration": 0,
    "start_time": "2023-07-24T12:24:25.939Z"
   },
   {
    "duration": 0,
    "start_time": "2023-07-24T12:24:25.939Z"
   },
   {
    "duration": 0,
    "start_time": "2023-07-24T12:24:25.941Z"
   },
   {
    "duration": 0,
    "start_time": "2023-07-24T12:24:25.942Z"
   },
   {
    "duration": 0,
    "start_time": "2023-07-24T12:24:25.942Z"
   },
   {
    "duration": 0,
    "start_time": "2023-07-24T12:24:25.943Z"
   },
   {
    "duration": 0,
    "start_time": "2023-07-24T12:24:25.944Z"
   },
   {
    "duration": 0,
    "start_time": "2023-07-24T12:24:25.967Z"
   },
   {
    "duration": 0,
    "start_time": "2023-07-24T12:24:25.968Z"
   },
   {
    "duration": 0,
    "start_time": "2023-07-24T12:24:25.969Z"
   },
   {
    "duration": 0,
    "start_time": "2023-07-24T12:24:25.970Z"
   },
   {
    "duration": 0,
    "start_time": "2023-07-24T12:24:25.971Z"
   },
   {
    "duration": 0,
    "start_time": "2023-07-24T12:24:25.972Z"
   },
   {
    "duration": 0,
    "start_time": "2023-07-24T12:24:25.973Z"
   },
   {
    "duration": 0,
    "start_time": "2023-07-24T12:24:25.974Z"
   },
   {
    "duration": 0,
    "start_time": "2023-07-24T12:24:25.975Z"
   },
   {
    "duration": 0,
    "start_time": "2023-07-24T12:24:25.976Z"
   },
   {
    "duration": 0,
    "start_time": "2023-07-24T12:24:25.977Z"
   },
   {
    "duration": 0,
    "start_time": "2023-07-24T12:24:25.978Z"
   },
   {
    "duration": 0,
    "start_time": "2023-07-24T12:24:25.979Z"
   },
   {
    "duration": 0,
    "start_time": "2023-07-24T12:24:25.980Z"
   },
   {
    "duration": 0,
    "start_time": "2023-07-24T12:24:25.981Z"
   },
   {
    "duration": 0,
    "start_time": "2023-07-24T12:24:25.982Z"
   },
   {
    "duration": 0,
    "start_time": "2023-07-24T12:24:25.983Z"
   },
   {
    "duration": 0,
    "start_time": "2023-07-24T12:24:25.984Z"
   },
   {
    "duration": 1291,
    "start_time": "2023-07-24T12:25:04.048Z"
   },
   {
    "duration": 99,
    "start_time": "2023-07-24T12:25:05.340Z"
   },
   {
    "duration": 0,
    "start_time": "2023-07-24T12:25:05.441Z"
   },
   {
    "duration": 0,
    "start_time": "2023-07-24T12:25:05.442Z"
   },
   {
    "duration": 0,
    "start_time": "2023-07-24T12:25:05.443Z"
   },
   {
    "duration": 0,
    "start_time": "2023-07-24T12:25:05.444Z"
   },
   {
    "duration": 0,
    "start_time": "2023-07-24T12:25:05.445Z"
   },
   {
    "duration": 0,
    "start_time": "2023-07-24T12:25:05.447Z"
   },
   {
    "duration": 0,
    "start_time": "2023-07-24T12:25:05.447Z"
   },
   {
    "duration": 0,
    "start_time": "2023-07-24T12:25:05.448Z"
   },
   {
    "duration": 0,
    "start_time": "2023-07-24T12:25:05.449Z"
   },
   {
    "duration": 0,
    "start_time": "2023-07-24T12:25:05.450Z"
   },
   {
    "duration": 0,
    "start_time": "2023-07-24T12:25:05.467Z"
   },
   {
    "duration": 0,
    "start_time": "2023-07-24T12:25:05.468Z"
   },
   {
    "duration": 0,
    "start_time": "2023-07-24T12:25:05.469Z"
   },
   {
    "duration": 0,
    "start_time": "2023-07-24T12:25:05.470Z"
   },
   {
    "duration": 0,
    "start_time": "2023-07-24T12:25:05.471Z"
   },
   {
    "duration": 0,
    "start_time": "2023-07-24T12:25:05.472Z"
   },
   {
    "duration": 0,
    "start_time": "2023-07-24T12:25:05.473Z"
   },
   {
    "duration": 0,
    "start_time": "2023-07-24T12:25:05.474Z"
   },
   {
    "duration": 0,
    "start_time": "2023-07-24T12:25:05.474Z"
   },
   {
    "duration": 0,
    "start_time": "2023-07-24T12:25:05.475Z"
   },
   {
    "duration": 0,
    "start_time": "2023-07-24T12:25:05.476Z"
   },
   {
    "duration": 0,
    "start_time": "2023-07-24T12:25:05.477Z"
   },
   {
    "duration": 0,
    "start_time": "2023-07-24T12:25:05.478Z"
   },
   {
    "duration": 0,
    "start_time": "2023-07-24T12:25:05.479Z"
   },
   {
    "duration": 0,
    "start_time": "2023-07-24T12:25:05.479Z"
   },
   {
    "duration": 0,
    "start_time": "2023-07-24T12:25:05.480Z"
   },
   {
    "duration": 0,
    "start_time": "2023-07-24T12:25:05.481Z"
   },
   {
    "duration": 0,
    "start_time": "2023-07-24T12:25:05.482Z"
   },
   {
    "duration": 0,
    "start_time": "2023-07-24T12:25:05.483Z"
   },
   {
    "duration": 0,
    "start_time": "2023-07-24T12:25:05.484Z"
   },
   {
    "duration": 0,
    "start_time": "2023-07-24T12:25:05.485Z"
   },
   {
    "duration": 0,
    "start_time": "2023-07-24T12:25:05.487Z"
   },
   {
    "duration": 1350,
    "start_time": "2023-07-24T12:25:21.216Z"
   },
   {
    "duration": 103,
    "start_time": "2023-07-24T12:25:22.568Z"
   },
   {
    "duration": 0,
    "start_time": "2023-07-24T12:25:22.673Z"
   },
   {
    "duration": 0,
    "start_time": "2023-07-24T12:25:22.674Z"
   },
   {
    "duration": 0,
    "start_time": "2023-07-24T12:25:22.675Z"
   },
   {
    "duration": 0,
    "start_time": "2023-07-24T12:25:22.676Z"
   },
   {
    "duration": 0,
    "start_time": "2023-07-24T12:25:22.677Z"
   },
   {
    "duration": 0,
    "start_time": "2023-07-24T12:25:22.677Z"
   },
   {
    "duration": 0,
    "start_time": "2023-07-24T12:25:22.678Z"
   },
   {
    "duration": 0,
    "start_time": "2023-07-24T12:25:22.679Z"
   },
   {
    "duration": 0,
    "start_time": "2023-07-24T12:25:22.680Z"
   },
   {
    "duration": 0,
    "start_time": "2023-07-24T12:25:22.681Z"
   },
   {
    "duration": 0,
    "start_time": "2023-07-24T12:25:22.682Z"
   },
   {
    "duration": 0,
    "start_time": "2023-07-24T12:25:22.683Z"
   },
   {
    "duration": 0,
    "start_time": "2023-07-24T12:25:22.684Z"
   },
   {
    "duration": 0,
    "start_time": "2023-07-24T12:25:22.685Z"
   },
   {
    "duration": 0,
    "start_time": "2023-07-24T12:25:22.686Z"
   },
   {
    "duration": 0,
    "start_time": "2023-07-24T12:25:22.686Z"
   },
   {
    "duration": 0,
    "start_time": "2023-07-24T12:25:22.688Z"
   },
   {
    "duration": 0,
    "start_time": "2023-07-24T12:25:22.689Z"
   },
   {
    "duration": 0,
    "start_time": "2023-07-24T12:25:22.689Z"
   },
   {
    "duration": 0,
    "start_time": "2023-07-24T12:25:22.690Z"
   },
   {
    "duration": 0,
    "start_time": "2023-07-24T12:25:22.691Z"
   },
   {
    "duration": 0,
    "start_time": "2023-07-24T12:25:22.692Z"
   },
   {
    "duration": 0,
    "start_time": "2023-07-24T12:25:22.693Z"
   },
   {
    "duration": 0,
    "start_time": "2023-07-24T12:25:22.694Z"
   },
   {
    "duration": 0,
    "start_time": "2023-07-24T12:25:22.695Z"
   },
   {
    "duration": 0,
    "start_time": "2023-07-24T12:25:22.696Z"
   },
   {
    "duration": 0,
    "start_time": "2023-07-24T12:25:22.697Z"
   },
   {
    "duration": 0,
    "start_time": "2023-07-24T12:25:22.698Z"
   },
   {
    "duration": 0,
    "start_time": "2023-07-24T12:25:22.699Z"
   },
   {
    "duration": 0,
    "start_time": "2023-07-24T12:25:22.700Z"
   },
   {
    "duration": 0,
    "start_time": "2023-07-24T12:25:22.701Z"
   },
   {
    "duration": 0,
    "start_time": "2023-07-24T12:25:22.702Z"
   },
   {
    "duration": 9,
    "start_time": "2023-07-24T12:26:03.440Z"
   },
   {
    "duration": 4452,
    "start_time": "2023-07-24T19:42:58.870Z"
   },
   {
    "duration": 223,
    "start_time": "2023-07-24T19:43:03.325Z"
   },
   {
    "duration": 18,
    "start_time": "2023-07-24T19:43:03.550Z"
   },
   {
    "duration": 227,
    "start_time": "2023-07-24T19:43:09.389Z"
   },
   {
    "duration": 119,
    "start_time": "2023-07-24T19:43:10.324Z"
   },
   {
    "duration": 10,
    "start_time": "2023-07-24T19:43:16.536Z"
   },
   {
    "duration": 11,
    "start_time": "2023-07-24T19:43:17.364Z"
   },
   {
    "duration": 10,
    "start_time": "2023-07-24T19:43:23.206Z"
   },
   {
    "duration": 270,
    "start_time": "2023-07-24T19:43:24.047Z"
   },
   {
    "duration": 4,
    "start_time": "2023-07-24T19:43:29.691Z"
   },
   {
    "duration": 141,
    "start_time": "2023-07-24T19:43:31.490Z"
   },
   {
    "duration": 9,
    "start_time": "2023-07-24T19:43:35.451Z"
   },
   {
    "duration": 212,
    "start_time": "2023-07-24T19:43:37.727Z"
   },
   {
    "duration": 10,
    "start_time": "2023-07-24T19:43:45.900Z"
   },
   {
    "duration": 235,
    "start_time": "2023-07-24T19:43:52.054Z"
   },
   {
    "duration": 150,
    "start_time": "2023-07-24T19:43:55.954Z"
   },
   {
    "duration": 14,
    "start_time": "2023-07-24T19:43:57.592Z"
   },
   {
    "duration": 1927,
    "start_time": "2023-07-24T19:44:02.145Z"
   },
   {
    "duration": 7,
    "start_time": "2023-07-24T19:44:09.725Z"
   },
   {
    "duration": 17,
    "start_time": "2023-07-24T19:44:16.530Z"
   },
   {
    "duration": 16,
    "start_time": "2023-07-24T19:44:18.711Z"
   },
   {
    "duration": 6,
    "start_time": "2023-07-24T19:44:19.039Z"
   },
   {
    "duration": 11,
    "start_time": "2023-07-24T19:44:19.922Z"
   },
   {
    "duration": 21,
    "start_time": "2023-07-24T19:44:20.965Z"
   },
   {
    "duration": 6,
    "start_time": "2023-07-24T19:44:24.710Z"
   },
   {
    "duration": 9,
    "start_time": "2023-07-24T19:44:25.717Z"
   },
   {
    "duration": 9,
    "start_time": "2023-07-24T19:44:26.338Z"
   },
   {
    "duration": 12,
    "start_time": "2023-07-24T19:44:30.170Z"
   },
   {
    "duration": 3,
    "start_time": "2023-07-24T19:44:49.872Z"
   },
   {
    "duration": 13,
    "start_time": "2023-07-24T19:44:52.458Z"
   },
   {
    "duration": 5,
    "start_time": "2023-07-24T19:44:55.179Z"
   },
   {
    "duration": 15,
    "start_time": "2023-07-24T19:45:02.334Z"
   },
   {
    "duration": 11,
    "start_time": "2023-07-24T19:45:04.396Z"
   },
   {
    "duration": 5,
    "start_time": "2023-07-24T19:45:07.498Z"
   },
   {
    "duration": 12,
    "start_time": "2023-07-24T19:45:11.718Z"
   },
   {
    "duration": 16,
    "start_time": "2023-07-24T19:45:14.901Z"
   },
   {
    "duration": 19,
    "start_time": "2023-07-24T19:45:19.632Z"
   },
   {
    "duration": 113,
    "start_time": "2023-07-24T19:45:24.448Z"
   },
   {
    "duration": 11,
    "start_time": "2023-07-24T19:45:35.598Z"
   },
   {
    "duration": 5,
    "start_time": "2023-07-24T19:45:38.130Z"
   },
   {
    "duration": 23,
    "start_time": "2023-07-24T19:46:00.367Z"
   },
   {
    "duration": 18,
    "start_time": "2023-07-24T19:46:03.279Z"
   },
   {
    "duration": 16,
    "start_time": "2023-07-24T19:46:28.736Z"
   },
   {
    "duration": 13,
    "start_time": "2023-07-24T19:46:31.370Z"
   },
   {
    "duration": 5,
    "start_time": "2023-07-24T19:46:35.496Z"
   },
   {
    "duration": 12,
    "start_time": "2023-07-24T19:46:41.315Z"
   },
   {
    "duration": 14,
    "start_time": "2023-07-24T19:46:46.488Z"
   },
   {
    "duration": 1793,
    "start_time": "2023-07-24T19:46:49.601Z"
   },
   {
    "duration": 1809,
    "start_time": "2023-07-24T19:46:54.360Z"
   },
   {
    "duration": 34,
    "start_time": "2023-07-24T19:46:58.650Z"
   }
  ],
  "kernelspec": {
   "display_name": "Python 3 (ipykernel)",
   "language": "python",
   "name": "python3"
  },
  "language_info": {
   "codemirror_mode": {
    "name": "ipython",
    "version": 3
   },
   "file_extension": ".py",
   "mimetype": "text/x-python",
   "name": "python",
   "nbconvert_exporter": "python",
   "pygments_lexer": "ipython3",
   "version": "3.9.5"
  },
  "toc": {
   "base_numbering": 1,
   "nav_menu": {},
   "number_sections": true,
   "sideBar": true,
   "skip_h1_title": true,
   "title_cell": "Table of Contents",
   "title_sidebar": "Contents",
   "toc_cell": false,
   "toc_position": {},
   "toc_section_display": true,
   "toc_window_display": false
  }
 },
 "nbformat": 4,
 "nbformat_minor": 5
}
